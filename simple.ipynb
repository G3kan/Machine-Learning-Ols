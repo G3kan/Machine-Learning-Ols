{
 "cells": [
  {
   "cell_type": "code",
   "execution_count": 1,
   "id": "a96515f8-afd8-4497-8def-bdf5c620082f",
   "metadata": {},
   "outputs": [],
   "source": [
    "import pandas as pd\n",
    "import numpy as np\n",
    "import seaborn as sns\n",
    "from sklearn.linear_model import LinearRegression\n",
    "from sklearn.linear_model import Ridge\n",
    "from sklearn.linear_model import Lasso\n",
    "import matplotlib.pyplot as plt\n",
    "import pingouin as pg\n",
    "from statsmodels.formula.api import ols\n",
    "import statsmodels.api as sm\n",
    "from statsmodels.api import qqplot"
   ]
  },
  {
   "cell_type": "code",
   "execution_count": 2,
   "id": "8d5af29d-8d86-4c3e-99bc-0356492c609a",
   "metadata": {},
   "outputs": [
    {
     "name": "stdout",
     "output_type": "stream",
     "text": [
      "            A          B\n",
      "0   32.502345  31.707006\n",
      "1   53.426804  68.777596\n",
      "2   61.530358  62.562382\n",
      "3   47.475640  71.546632\n",
      "4   59.813208  87.230925\n",
      "..        ...        ...\n",
      "95  50.030174  81.536991\n",
      "96  49.239765  72.111832\n",
      "97  50.039576  85.232007\n",
      "98  48.149859  66.224958\n",
      "99  25.128485  53.454394\n",
      "\n",
      "[100 rows x 2 columns]\n"
     ]
    }
   ],
   "source": [
    "simple_df=pd.read_csv(\"data.csv\")\n",
    "print(simple_df)"
   ]
  },
  {
   "cell_type": "code",
   "execution_count": 3,
   "id": "0529959c-34ba-4cd0-978c-e6f81d746bb5",
   "metadata": {},
   "outputs": [
    {
     "data": {
      "text/html": [
       "<div>\n",
       "<style scoped>\n",
       "    .dataframe tbody tr th:only-of-type {\n",
       "        vertical-align: middle;\n",
       "    }\n",
       "\n",
       "    .dataframe tbody tr th {\n",
       "        vertical-align: top;\n",
       "    }\n",
       "\n",
       "    .dataframe thead th {\n",
       "        text-align: right;\n",
       "    }\n",
       "</style>\n",
       "<table border=\"1\" class=\"dataframe\">\n",
       "  <thead>\n",
       "    <tr style=\"text-align: right;\">\n",
       "      <th></th>\n",
       "      <th>A</th>\n",
       "      <th>B</th>\n",
       "    </tr>\n",
       "  </thead>\n",
       "  <tbody>\n",
       "    <tr>\n",
       "      <th>count</th>\n",
       "      <td>100.000000</td>\n",
       "      <td>100.000000</td>\n",
       "    </tr>\n",
       "    <tr>\n",
       "      <th>mean</th>\n",
       "      <td>48.958341</td>\n",
       "      <td>72.735051</td>\n",
       "    </tr>\n",
       "    <tr>\n",
       "      <th>std</th>\n",
       "      <td>9.746379</td>\n",
       "      <td>16.658187</td>\n",
       "    </tr>\n",
       "    <tr>\n",
       "      <th>min</th>\n",
       "      <td>25.128485</td>\n",
       "      <td>31.707006</td>\n",
       "    </tr>\n",
       "    <tr>\n",
       "      <th>25%</th>\n",
       "      <td>41.526164</td>\n",
       "      <td>60.788586</td>\n",
       "    </tr>\n",
       "    <tr>\n",
       "      <th>50%</th>\n",
       "      <td>49.634970</td>\n",
       "      <td>72.179542</td>\n",
       "    </tr>\n",
       "    <tr>\n",
       "      <th>75%</th>\n",
       "      <td>56.762631</td>\n",
       "      <td>83.215080</td>\n",
       "    </tr>\n",
       "    <tr>\n",
       "      <th>max</th>\n",
       "      <td>70.346076</td>\n",
       "      <td>118.591217</td>\n",
       "    </tr>\n",
       "  </tbody>\n",
       "</table>\n",
       "</div>"
      ],
      "text/plain": [
       "                A           B\n",
       "count  100.000000  100.000000\n",
       "mean    48.958341   72.735051\n",
       "std      9.746379   16.658187\n",
       "min     25.128485   31.707006\n",
       "25%     41.526164   60.788586\n",
       "50%     49.634970   72.179542\n",
       "75%     56.762631   83.215080\n",
       "max     70.346076  118.591217"
      ]
     },
     "execution_count": 3,
     "metadata": {},
     "output_type": "execute_result"
    }
   ],
   "source": [
    "simple_df.describe(include=\"all\")"
   ]
  },
  {
   "cell_type": "code",
   "execution_count": 4,
   "id": "9f49cf38-2306-48af-8b20-2ba661dc8a89",
   "metadata": {},
   "outputs": [
    {
     "name": "stdout",
     "output_type": "stream",
     "text": [
      "0.7737284998878238\n"
     ]
    }
   ],
   "source": [
    "print(simple_df[\"A\"].corr(simple_df[\"B\"]))"
   ]
  },
  {
   "cell_type": "code",
   "execution_count": 5,
   "id": "bf9cdde0-d963-4d9a-877f-e94ef39f4ad6",
   "metadata": {},
   "outputs": [
    {
     "data": {
      "image/png": "[encoded data removed]",
      "text/plain": [
       "<Figure size 640x480 with 1 Axes>"
      ]
     },
     "metadata": {},
     "output_type": "display_data"
    }
   ],
   "source": [
    "sns.regplot(ci=None,x=\"B\",y=\"A\",data=simple_df)\n",
    "plt.show()"
   ]
  },
  {
   "cell_type": "code",
   "execution_count": 6,
   "id": "6e4a536a-0db1-4f60-82e2-884308d5f6dc",
   "metadata": {},
   "outputs": [],
   "source": [
    "model=ols(\"A ~ B\",data=simple_df)"
   ]
  },
  {
   "cell_type": "code",
   "execution_count": 7,
   "id": "6d2a08a4-4c33-40f8-a513-ec6f21fe1fa3",
   "metadata": {},
   "outputs": [],
   "source": [
    "model=model.fit()"
   ]
  },
  {
   "cell_type": "code",
   "execution_count": 8,
   "id": "c1627747-75e5-4b8b-b4f0-604e6ff4ec90",
   "metadata": {},
   "outputs": [
    {
     "name": "stdout",
     "output_type": "stream",
     "text": [
      "Intercept    16.031664\n",
      "B             0.452693\n",
      "dtype: float64\n"
     ]
    }
   ],
   "source": [
    "print(model.params)"
   ]
  },
  {
   "cell_type": "code",
   "execution_count": 9,
   "id": "d1655b79-2e3f-4915-a381-1d7429620b83",
   "metadata": {},
   "outputs": [
    {
     "name": "stdout",
     "output_type": "stream",
     "text": [
      "                            OLS Regression Results                            \n",
      "==============================================================================\n",
      "Dep. Variable:                      A   R-squared:                       0.599\n",
      "Model:                            OLS   Adj. R-squared:                  0.595\n",
      "Method:                 Least Squares   F-statistic:                     146.2\n",
      "Date:                Thu, 05 Sep 2024   Prob (F-statistic):           3.86e-21\n",
      "Time:                        12:01:38   Log-Likelihood:                -323.43\n",
      "No. Observations:                 100   AIC:                             650.9\n",
      "Df Residuals:                      98   BIC:                             656.1\n",
      "Df Model:                           1                                         \n",
      "Covariance Type:            nonrobust                                         \n",
      "==============================================================================\n",
      "                 coef    std err          t      P>|t|      [0.025      0.975]\n",
      "------------------------------------------------------------------------------\n",
      "Intercept     16.0317      2.793      5.740      0.000      10.489      21.575\n",
      "B              0.4527      0.037     12.090      0.000       0.378       0.527\n",
      "==============================================================================\n",
      "Omnibus:                        0.355   Durbin-Watson:                   2.336\n",
      "Prob(Omnibus):                  0.838   Jarque-Bera (JB):                0.160\n",
      "Skew:                          -0.094   Prob(JB):                        0.923\n",
      "Kurtosis:                       3.051   Cond. No.                         336.\n",
      "==============================================================================\n",
      "\n",
      "Notes:\n",
      "[1] Standard Errors assume that the covariance matrix of the errors is correctly specified.\n"
     ]
    }
   ],
   "source": [
    "print(model.summary())"
   ]
  },
  {
   "cell_type": "code",
   "execution_count": 10,
   "id": "648c9e6f-c52a-440f-8c30-2b1af3b44280",
   "metadata": {},
   "outputs": [],
   "source": [
    "#t değeri 2 den büyük//kurtosis 3 artıklar normal dağılıma yakın// skew 0 //r2 0.8  yakın olması için aykırı değer tespiti (cook destance ile)"
   ]
  },
  {
   "cell_type": "code",
   "execution_count": 11,
   "id": "4fce391b-ad5c-4719-b20e-bf287a31b72d",
   "metadata": {},
   "outputs": [
    {
     "data": {
      "text/plain": [
       "38.51347775979707"
      ]
     },
     "execution_count": 11,
     "metadata": {},
     "output_type": "execute_result"
    }
   ],
   "source": [
    "model.mse_resid\n",
    "#modelin hata kareler ortalamasını (Mean Squared Error of residuals) verir. Bu, modelin verileri ne kadar iyi açıkladığını gösterir."
   ]
  },
  {
   "cell_type": "code",
   "execution_count": 12,
   "id": "4b669554-b0bb-48bc-bd1b-045c44c61845",
   "metadata": {},
   "outputs": [
    {
     "data": {
      "text/plain": [
       "6.2059227967963855"
      ]
     },
     "execution_count": 12,
     "metadata": {},
     "output_type": "execute_result"
    }
   ],
   "source": [
    "np.sqrt(model.mse_resid)\n",
    "#bu hata kareler ortalamasının karekökünü alır, bu da modelin standart hata değerini verir. Düşük bir değer, modelin veriye iyi uyduğunu gösterir."
   ]
  },
  {
   "cell_type": "code",
   "execution_count": 13,
   "id": "2417e6a9-89b9-4aeb-8833-3cadabc8bb6a",
   "metadata": {},
   "outputs": [],
   "source": [
    "C = pd.DataFrame({\n",
    "    'B': np.random.choice(range(51, 160), size=100, replace=False)\n",
    "})"
   ]
  },
  {
   "cell_type": "code",
   "execution_count": 14,
   "id": "4404dc64-d0a3-4fdb-9dc7-bdfa7ff9df51",
   "metadata": {},
   "outputs": [
    {
     "name": "stdout",
     "output_type": "stream",
     "text": [
      "      B\n",
      "0   158\n",
      "1    82\n",
      "2    75\n",
      "3   152\n",
      "4    63\n",
      "..  ...\n",
      "95  137\n",
      "96  146\n",
      "97   84\n",
      "98   59\n",
      "99   53\n",
      "\n",
      "[100 rows x 1 columns]\n"
     ]
    }
   ],
   "source": [
    "print(C)"
   ]
  },
  {
   "cell_type": "code",
   "execution_count": 15,
   "id": "c825ec9f-2530-4cbe-89ef-e2d333898c99",
   "metadata": {},
   "outputs": [],
   "source": [
    "simple_df[\"C\"]=model.predict(C)\n",
    "simple_df[\"D\"]=C[\"B\"]"
   ]
  },
  {
   "cell_type": "code",
   "execution_count": 16,
   "id": "c418890c-75fb-4b30-aba4-a8939f93c014",
   "metadata": {},
   "outputs": [
    {
     "data": {
      "image/png": "[encoded data removed]",
      "text/plain": [
       "<Figure size 640x480 with 1 Axes>"
      ]
     },
     "metadata": {},
     "output_type": "display_data"
    }
   ],
   "source": [
    "sns.regplot(ci=None,x=\"B\",y=\"A\",data=simple_df,color=\"blue\")\n",
    "sns.scatterplot(x=\"D\",y=\"C\",data=simple_df,color=\"red\")\n",
    "plt.show()"
   ]
  },
  {
   "cell_type": "code",
   "execution_count": 17,
   "id": "f06e9f61-9da7-4321-979c-2a2ff53b77ee",
   "metadata": {},
   "outputs": [
    {
     "name": "stdout",
     "output_type": "stream",
     "text": [
      "0     30.385217\n",
      "1     47.166828\n",
      "2     44.353242\n",
      "3     48.420352\n",
      "4     55.520528\n",
      "        ...    \n",
      "95    52.942922\n",
      "96    48.676215\n",
      "97    54.615631\n",
      "98    46.011266\n",
      "99    40.230116\n",
      "Length: 100, dtype: float64\n"
     ]
    }
   ],
   "source": [
    "print(model.fittedvalues)"
   ]
  },
  {
   "cell_type": "code",
   "execution_count": 18,
   "id": "c65dd9e4-5088-4601-835c-17d46189d96a",
   "metadata": {},
   "outputs": [
    {
     "name": "stdout",
     "output_type": "stream",
     "text": [
      "0      2.117129\n",
      "1      6.259976\n",
      "2     17.177116\n",
      "3     -0.944713\n",
      "4      4.292680\n",
      "        ...    \n",
      "95    -2.912747\n",
      "96     0.563551\n",
      "97    -4.576055\n",
      "98     2.138593\n",
      "99   -15.101631\n",
      "Length: 100, dtype: float64\n"
     ]
    }
   ],
   "source": [
    "print(model.resid)"
   ]
  },
  {
   "cell_type": "code",
   "execution_count": 19,
   "id": "786ba325-9790-4bd9-8e79-ed7da5fd1c1e",
   "metadata": {},
   "outputs": [],
   "source": [
    "k=pd.DataFrame({\"B\":[21]})"
   ]
  },
  {
   "cell_type": "code",
   "execution_count": 20,
   "id": "7d197d1c-e143-48e7-9c23-f7a82ee96c0b",
   "metadata": {},
   "outputs": [],
   "source": [
    "deneme=model.predict(k)"
   ]
  },
  {
   "cell_type": "code",
   "execution_count": 21,
   "id": "f5bca48c-5bc9-408a-a602-bb68813dfbc2",
   "metadata": {},
   "outputs": [
    {
     "name": "stdout",
     "output_type": "stream",
     "text": [
      "0    25.538226\n",
      "dtype: float64\n"
     ]
    }
   ],
   "source": [
    "print(deneme)"
   ]
  },
  {
   "cell_type": "code",
   "execution_count": 22,
   "id": "8b56c8da-b262-41b6-9420-d6ae4998ab26",
   "metadata": {},
   "outputs": [],
   "source": [
    "influence=model.get_influence()"
   ]
  },
  {
   "cell_type": "code",
   "execution_count": 23,
   "id": "04607a3e-e45f-4b22-a96b-d5e1d4787697",
   "metadata": {},
   "outputs": [
    {
     "name": "stdout",
     "output_type": "stream",
     "text": [
      "Cook's distance:\n",
      " [4.80842107e-03 5.49301916e-03 5.42167375e-02 1.18838862e-04\n",
      " 4.37520131e-03 2.02090966e-03 2.50586655e-06 2.77562599e-03\n",
      " 5.58743621e-04 2.40054959e-03 5.60953493e-03 1.73206004e-04\n",
      " 7.13488936e-07 8.71511219e-03 2.49228493e-03 6.03159591e-03\n",
      " 1.44428167e-02 1.48081240e-05 2.37563968e-02 2.26886565e-03\n",
      " 2.88282442e-02 2.49095594e-02 7.72677247e-03 1.89206867e-03\n",
      " 3.87791589e-04 1.21205026e-02 1.48141028e-03 7.82401278e-03\n",
      " 3.92727897e-03 1.99134749e-03 9.92621180e-03 4.05499053e-04\n",
      " 9.58864883e-03 1.20232498e-03 8.39747855e-03 8.16598524e-05\n",
      " 1.64688509e-02 1.32048374e-02 1.12195602e-02 7.03410514e-03\n",
      " 7.34692753e-03 1.38803048e-04 2.23727731e-03 2.05576880e-07\n",
      " 3.11953617e-02 8.22141183e-03 3.73576174e-05 1.30691174e-03\n",
      " 1.22162138e-02 1.40767865e-02 3.22207573e-02 1.61323385e-04\n",
      " 4.12497806e-03 2.38648544e-03 4.36470802e-04 6.25939507e-03\n",
      " 1.66919781e-02 1.20963982e-02 5.49922930e-03 7.18376151e-04\n",
      " 1.48530431e-03 8.77715038e-04 1.53107312e-03 1.21432554e-02\n",
      " 2.68528731e-02 5.56157142e-03 4.15171193e-04 1.46563252e-03\n",
      " 2.09513700e-02 5.97374706e-03 2.03875149e-02 1.34836492e-02\n",
      " 5.60036536e-04 1.99600986e-04 3.33788474e-02 2.65135281e-02\n",
      " 1.02157263e-06 4.82858070e-03 2.19927165e-03 3.69462583e-03\n",
      " 3.32800800e-03 1.90525265e-03 1.33227242e-02 8.94491165e-03\n",
      " 4.66871815e-03 9.03387502e-04 1.73525038e-03 1.06650259e-03\n",
      " 3.56317963e-03 6.62987732e-03 2.69186373e-02 2.71348388e-04\n",
      " 6.19859105e-04 3.19651498e-02 2.91127778e-02 1.44897893e-03\n",
      " 4.21287601e-05 4.40100033e-03 7.01464324e-04 7.30705429e-02]\n"
     ]
    }
   ],
   "source": [
    "#Cook's Distance, her bir gözlemin modelin parametrelerini ne kadar etkilediğini gösterir. \n",
    "#Yüksek Cook's Distance değeri, gözlemin model üzerindeki etkisinin yüksek olduğunu ve potansiyel bir aykırı değer olabileceğini gösteri\n",
    "cooks_d, _ = influence.cooks_distance\n",
    "print(\"Cook's distance:\\n\", cooks_d)"
   ]
  },
  {
   "cell_type": "code",
   "execution_count": 24,
   "id": "ff23be59-3253-4b0f-9500-25d570b68103",
   "metadata": {},
   "outputs": [
    {
     "name": "stdout",
     "output_type": "stream",
     "text": [
      "Leverage:\n",
      " [0.07127326 0.01057009 0.01376686 0.01005141 0.01764889 0.01109172\n",
      " 0.01173651 0.01669664 0.01024535 0.01007487 0.02123626 0.01345594\n",
      " 0.01418789 0.01025713 0.01275589 0.0152517  0.0137556  0.03210862\n",
      " 0.03077137 0.01915371 0.01452016 0.08654288 0.01872635 0.02658184\n",
      " 0.01025478 0.01015008 0.02878997 0.02841853 0.01145271 0.01416519\n",
      " 0.01320014 0.04571189 0.01054864 0.03102713 0.01006625 0.01137538\n",
      " 0.01092223 0.02764269 0.01409807 0.01517621 0.02463618 0.01730393\n",
      " 0.01376557 0.01465651 0.07577687 0.03686034 0.02266232 0.01847587\n",
      " 0.02457418 0.02581063 0.01201016 0.01212099 0.01187275 0.01202259\n",
      " 0.01001782 0.01009264 0.011476   0.01691757 0.01524838 0.01651291\n",
      " 0.01444543 0.01030348 0.01650029 0.01675864 0.01029264 0.03827893\n",
      " 0.01592947 0.02892524 0.01022444 0.02457966 0.02817056 0.01300947\n",
      " 0.01000866 0.01810578 0.04616915 0.01704003 0.02279947 0.02115202\n",
      " 0.01169079 0.03831012 0.01203253 0.01394293 0.02053411 0.01087367\n",
      " 0.03520932 0.01148427 0.0103603  0.01037848 0.01003303 0.01470423\n",
      " 0.01112706 0.01608861 0.0745746  0.02100613 0.03308795 0.01282011\n",
      " 0.01001414 0.01568483 0.01154271 0.02353172]\n"
     ]
    }
   ],
   "source": [
    "#Leverage, her bir gözlemin tahmin edilen değerler üzerinde ne kadar etkili olduğunu gösterir.\n",
    "#Yüksek leverage değerleri, gözlemin tahmin edilen değerler üzerindeki etkisini gösterir.\n",
    "leverage = influence.hat_matrix_diag\n",
    "print(\"Leverage:\\n\", leverage)"
   ]
  },
  {
   "cell_type": "code",
   "execution_count": 25,
   "id": "95f1c81b-b8de-4c84-80f4-0bb9a854feb2",
   "metadata": {},
   "outputs": [
    {
     "name": "stdout",
     "output_type": "stream",
     "text": [
      "DFBETAs:\n",
      " [[ 9.63811580e-02 -9.05188642e-02]\n",
      " [ 4.63912488e-02 -2.43453139e-02]\n",
      " [ 2.38778546e-01 -1.78590917e-01]\n",
      " [-4.46912874e-03  1.09705764e-03]\n",
      " [-4.42813571e-02  6.14199115e-02]\n",
      " [-6.01501146e-03  1.98800289e-02]\n",
      " [-3.78523991e-04  8.56717027e-04]\n",
      " [-5.86143769e-02  4.70227250e-02]\n",
      " [-2.28355214e-03 -5.14945795e-03]\n",
      " [ 2.11041618e-02 -5.95698803e-03]\n",
      " [ 9.10430277e-02 -7.68549631e-02]\n",
      " [-5.60365606e-03  9.38537166e-03]\n",
      " [ 8.51228250e-04 -6.45684522e-04]\n",
      " [ 8.61255104e-03  2.09773475e-02]\n",
      " [-1.80501153e-02  3.27128734e-02]\n",
      " [ 8.25046755e-02 -6.43765271e-02]\n",
      " [ 5.46921978e-02 -8.93000491e-02]\n",
      " [-3.70909782e-03  4.49272473e-03]\n",
      " [ 2.02738843e-01 -1.79547300e-01]\n",
      " [-5.59976956e-02  4.63852459e-02]\n",
      " [-8.76765480e-02  1.36030598e-01]\n",
      " [ 1.87349356e-01 -2.09399607e-01]\n",
      " [ 1.02821798e-01 -8.47770599e-02]\n",
      " [ 5.55082533e-02 -4.83712580e-02]\n",
      " [ 1.82165891e-03  4.36886764e-03]\n",
      " [ 1.59897820e-02  1.90667350e-02]\n",
      " [ 3.55825378e-02 -4.37713070e-02]\n",
      " [-8.15071403e-02  1.00465723e-01]\n",
      " [ 1.23550118e-02 -3.15120712e-02]\n",
      " [ 2.15047403e-02 -3.40943694e-02]\n",
      " [ 9.51259472e-02 -6.95485845e-02]\n",
      " [ 2.73630219e-02 -2.50444847e-02]\n",
      " [ 8.38580256e-04 -3.17127485e-02]\n",
      " [ 3.30173494e-02 -4.01776411e-02]\n",
      " [ 1.85103788e-02  1.05490060e-02]\n",
      " [-6.95960953e-03  4.42131923e-03]\n",
      " [-1.29680992e-02  5.32837127e-02]\n",
      " [-1.48247309e-01  1.29782124e-01]\n",
      " [-1.07089627e-01  8.10010706e-02]\n",
      " [-8.88902400e-02  6.92386887e-02]\n",
      " [ 1.08022832e-01 -9.32310814e-02]\n",
      " [ 1.33011095e-02 -1.07703077e-02]\n",
      " [ 2.13693700e-02 -3.48640231e-02]\n",
      " [ 4.67664079e-04 -3.59575475e-04]\n",
      " [ 2.06485664e-01 -2.32430871e-01]\n",
      " [-1.21209839e-01  1.09141823e-01]\n",
      " [-7.53675530e-03  6.42819478e-03]\n",
      " [ 2.52936074e-02 -3.44753410e-02]\n",
      " [-1.39498436e-01  1.20356148e-01]\n",
      " [-1.04870143e-01  1.31365793e-01]\n",
      " [ 5.09347438e-02 -1.06236133e-01]\n",
      " [-1.08964713e-02  7.47644158e-03]\n",
      " [-5.36062517e-02  3.60155441e-02]\n",
      " [-4.14978359e-02  2.82483236e-02]\n",
      " [ 5.31883987e-03  1.24013513e-03]\n",
      " [ 3.52381530e-02 -1.07322967e-02]\n",
      " [ 2.62485771e-02 -6.61692701e-02]\n",
      " [-7.05528532e-02  9.96692714e-02]\n",
      " [ 4.10584085e-02 -6.14354534e-02]\n",
      " [-2.96243254e-02  2.36934952e-02]\n",
      " [-3.93934899e-02  3.01117952e-02]\n",
      " [ 1.61128414e-02 -7.16003354e-03]\n",
      " [ 2.41910507e-02 -3.45868668e-02]\n",
      " [ 1.23511507e-01 -9.91850474e-02]\n",
      " [-9.08225697e-02  3.99428784e-02]\n",
      " [ 9.99898819e-02 -9.03146681e-02]\n",
      " [-1.20100084e-02  1.74953424e-02]\n",
      " [ 3.54615774e-02 -4.35913921e-02]\n",
      " [ 7.57526143e-02 -3.08180633e-02]\n",
      " [-9.73056866e-02  8.39556864e-02]\n",
      " [-1.85240604e-01  1.62515884e-01]\n",
      " [ 1.09590127e-01 -7.94123879e-02]\n",
      " [-8.35437221e-03  9.80053154e-04]\n",
      " [ 1.62517833e-02 -1.33016616e-02]\n",
      " [-1.96640241e-01  2.29136555e-01]\n",
      " [ 1.06253219e-01 -1.49609609e-01]\n",
      " [-8.29623128e-04  1.06550684e-03]\n",
      " [-8.43442167e-02  7.11526288e-02]\n",
      " [-1.09278675e-02  2.51406156e-02]\n",
      " [ 8.14643821e-02 -7.35865702e-02]\n",
      " [-1.61304854e-02  3.34529776e-02]\n",
      " [-2.03144954e-02  3.27035171e-02]\n",
      " [-1.39497723e-01  1.17079245e-01]\n",
      " [-8.49433965e-03  3.80362518e-02]\n",
      " [ 6.80187749e-02 -8.14528100e-02]\n",
      " [-6.06019430e-03  1.52150775e-02]\n",
      " [ 2.34900506e-02 -1.09484569e-02]\n",
      " [ 1.85955309e-02 -8.78367735e-03]\n",
      " [-1.39815530e-02 -4.83593351e-03]\n",
      " [-8.45536194e-02  6.50940720e-02]\n",
      " [-1.23301030e-01  7.53296552e-02]\n",
      " [ 9.84329274e-03 -1.42601735e-02]\n",
      " [-2.89339211e-02  3.25989646e-02]\n",
      " [ 1.41132104e-01 -1.84916145e-01]\n",
      " [-1.67660620e-01  2.02297569e-01]\n",
      " [ 1.39978244e-02 -2.51478619e-02]\n",
      " [ 2.36224321e-03 -3.43149636e-04]\n",
      " [ 3.83377774e-02 -5.63520724e-02]\n",
      " [ 2.10018419e-02 -1.36315414e-02]\n",
      " [-3.47200033e-01  2.97768988e-01]]\n"
     ]
    }
   ],
   "source": [
    "# DFBETAs\n",
    "#DFBETAs, her bir gözlemin regresyon katsayıları üzerindeki etkisini ölçer. \n",
    "#Yüksek DFBETA değerleri, gözlemin model parametreleri üzerindeki etkisini gösterir ve potansiyel etkili gözlemler hakkında bilgi sağlar.\n",
    "dfbetas = influence.dfbetas\n",
    "print(\"DFBETAs:\\n\", dfbetas)"
   ]
  },
  {
   "cell_type": "code",
   "execution_count": 26,
   "id": "cd0a6dff-4e19-4556-84fb-9f9454299570",
   "metadata": {},
   "outputs": [
    {
     "name": "stdout",
     "output_type": "stream",
     "text": [
      "DFFITS:\n",
      " (array([ 0.09762632,  0.10482963,  0.34141863, -0.01533977,  0.09329723,\n",
      "        0.06336672,  0.00222724, -0.07424956, -0.03327618,  0.06910206,\n",
      "        0.10565743,  0.01851934,  0.00118845,  0.13249009,  0.07037901,\n",
      "        0.10970759, -0.17090388,  0.00541427,  0.21853435, -0.06709771,\n",
      "        0.2438066 , -0.22265843,  0.12419057,  0.061244  ,  0.02771743,\n",
      "        0.15680161, -0.05418101,  0.12479329, -0.08847919, -0.06287477,\n",
      "        0.14125155,  0.02833481, -0.13905588, -0.0488051 ,  0.13003288,\n",
      "       -0.01271521,  0.18337124, -0.16245108, -0.15023839, -0.11855628,\n",
      "        0.12095771,  0.01657762, -0.06665907,  0.00063793, -0.24947414,\n",
      "       -0.12785423, -0.00859972, -0.05090013, -0.15628443,  0.16784445,\n",
      "       -0.25967584, -0.01787289, -0.0906829 , -0.06887126,  0.0294074 ,\n",
      "        0.11201905, -0.18450532,  0.15586675, -0.10471727, -0.0377271 ,\n",
      "       -0.05428066,  0.04171945, -0.05510495,  0.15618376, -0.23688548,\n",
      "        0.10507676,  0.02867577, -0.05389128,  0.20800485, -0.1090095 ,\n",
      "       -0.20235289,  0.16510981, -0.03331514,  0.01988003,  0.25888159,\n",
      "       -0.23275952,  0.00142208, -0.09799188,  0.06610781,  0.08560211,\n",
      "        0.08139437,  0.06149815, -0.16346282,  0.13418748, -0.09626188,\n",
      "        0.04232235,  0.058709  ,  0.04599598, -0.0842889 , -0.11508489,\n",
      "       -0.23669196, -0.02318062,  0.03503228, -0.25546449,  0.24217701,\n",
      "       -0.0536184 ,  0.00913262, -0.09360325,  0.03728696, -0.39267189]), 0.282842712474619)\n"
     ]
    }
   ],
   "source": [
    "# DFFITS\n",
    "#her bir gözlemin modelin tahminlerini ne kadar etkilediğini ölçer. Bu, tahmin edilen değerlerin gözlemden ne kadar etkilendiğini gösterir.\n",
    "dffits = influence.dffits\n",
    "print(\"DFFITS:\\n\", dffits)"
   ]
  },
  {
   "cell_type": "code",
   "execution_count": 27,
   "id": "b55d55b9-6146-4554-b239-2e9b49bfa7fa",
   "metadata": {},
   "outputs": [
    {
     "data": {
      "image/png": "[encoded data removed]",
      "text/plain": [
       "<Figure size 640x480 with 1 Axes>"
      ]
     },
     "metadata": {},
     "output_type": "display_data"
    }
   ],
   "source": [
    "#Q-Q grafiği, modelin kalanlarının normal dağılıma ne kadar uyduğunu değerlendirir.\n",
    "#\"45\" çizgisi, kalanların normal dağılıma uygunluğunu gösterir. Veriler bu çizgiye yakınsa, kalanlar normal dağılıma uygun demektir.\n",
    "qqplot(model.resid,fit=True,line=\"45\")\n",
    "plt.show()"
   ]
  },
  {
   "cell_type": "code",
   "execution_count": 28,
   "id": "d483e305-2e09-4ed1-b6a9-228060ceb246",
   "metadata": {},
   "outputs": [
    {
     "name": "stdout",
     "output_type": "stream",
     "text": [
      "Studentized residuals:\n",
      " [ 0.35399483  1.01408367  2.78710988 -0.15299846  0.69789284  0.60029821\n",
      "  0.02054285 -0.57177442 -0.3285653   0.68683399  0.71908184  0.15936676\n",
      "  0.00995742  1.29687958  0.62111318  0.88254038 -1.43910838  0.0298791\n",
      "  1.2233338  -0.48205145  1.97816398 -0.72514762  0.89987583  0.37225509\n",
      "  0.27359793  1.53753591 -0.3161467   0.73142299 -0.82338964 -0.52647696\n",
      "  1.21823783  0.13011731 -1.34119754 -0.27403808  1.28516433 -0.11913848\n",
      "  1.72705542 -0.96383852 -1.25267942 -0.95546997  0.76271897  0.12556014\n",
      " -0.56619742  0.00525752 -0.87232859 -0.65547051 -0.05676422 -0.37263715\n",
      " -0.98478378  1.03083492 -2.30242109 -0.16216104 -0.82862214 -0.62628057\n",
      "  0.2937107   1.10809253 -1.69577141  1.18568412 -0.84278623 -0.29252536\n",
      " -0.45019209  0.41063004 -0.42722264  1.19369451 -2.27248205  0.52863803\n",
      "  0.22648582 -0.31370064  2.0140478  -0.68856727 -1.1860267   1.43036002\n",
      " -0.33285177  0.14713639  1.17438482 -1.74896667  0.00935792 -0.66850771\n",
      "  0.60978802  0.43068622  0.73926465  0.51911709 -1.12737469  1.27567729\n",
      " -0.50582649  0.39435939  0.57576913  0.45098653 -0.83854862 -0.94260535\n",
      " -2.18736702 -0.1821786   0.12403285 -1.72611741  1.30441384 -0.47238739\n",
      "  0.09126664 -0.74322072  0.34661144 -2.46256904]\n"
     ]
    }
   ],
   "source": [
    "#Studentized residuals, her bir kalan değerinin varyansını normalize eder ve modelin uyumunu değerlendirir.\n",
    "#Yüksek studentized residuals değerleri aykırı değerler veya modelin uyumsuzluğunu gösterebilir.\n",
    "studentized_residuals = influence.resid_studentized_internal\n",
    "print(\"Studentized residuals:\\n\", studentized_residuals)"
   ]
  },
  {
   "cell_type": "code",
   "execution_count": 29,
   "id": "29bc21c0-7674-43bc-8dd9-1ed484960385",
   "metadata": {},
   "outputs": [
    {
     "data": {
      "image/png": "[encoded data removed]",
      "text/plain": [
       "<Figure size 640x480 with 1 Axes>"
      ]
     },
     "metadata": {},
     "output_type": "display_data"
    }
   ],
   "source": [
    "sqrt_standart=np.sqrt(np.abs(studentized_residuals))\n",
    "#Studentized residuals değerlerinin mutlak değerlerinin karekökünü alır. Bu, residuals'ın büyüklüğünü görselleştirmede yardımcı olabilir.\n",
    "sns.regplot(x=model.fittedvalues,y=sqrt_standart,ci=None,lowess=True)\n",
    "plt.show()"
   ]
  },
  {
   "cell_type": "code",
   "execution_count": 30,
   "id": "b39d575f-24ab-4a62-bfb9-52140fcfd1e0",
   "metadata": {},
   "outputs": [
    {
     "data": {
      "text/plain": [
       "<AxesSubplot:>"
      ]
     },
     "execution_count": 30,
     "metadata": {},
     "output_type": "execute_result"
    },
    {
     "data": {
      "image/png": "[encoded data removed]",
      "text/plain": [
       "<Figure size 640x480 with 1 Axes>"
      ]
     },
     "metadata": {},
     "output_type": "display_data"
    }
   ],
   "source": [
    "#Kalan grafiği çizer. Bu, tahmin edilen değerler ile kalanlar arasındaki ilişkiyi gösterir ve modelin doğruluğunu değerlendirmede yardımcı olabilir.\n",
    "sns.residplot(x=model.fittedvalues,y=model.resid,lowess=True)"
   ]
  },
  {
   "cell_type": "code",
   "execution_count": 31,
   "id": "f1bb0e03-2d69-4eb8-a197-2c91c9a7026f",
   "metadata": {},
   "outputs": [
    {
     "name": "stdout",
     "output_type": "stream",
     "text": [
      "    dfb_Intercept     dfb_B   cooks_d  standard_resid  hat_diag  \\\n",
      "0        0.096381 -0.090519  0.004808        0.353995  0.071273   \n",
      "1        0.046391 -0.024345  0.005493        1.014084  0.010570   \n",
      "2        0.238779 -0.178591  0.054217        2.787110  0.013767   \n",
      "3       -0.004469  0.001097  0.000119       -0.152998  0.010051   \n",
      "4       -0.044281  0.061420  0.004375        0.697893  0.017649   \n",
      "..            ...       ...       ...             ...       ...   \n",
      "95       0.013998 -0.025148  0.001449       -0.472387  0.012820   \n",
      "96       0.002362 -0.000343  0.000042        0.091267  0.010014   \n",
      "97       0.038338 -0.056352  0.004401       -0.743221  0.015685   \n",
      "98       0.021002 -0.013632  0.000701        0.346611  0.011543   \n",
      "99      -0.347200  0.297769  0.073071       -2.462569  0.023532   \n",
      "\n",
      "    dffits_internal  student_resid    dffits  \n",
      "0          0.098065       0.352409  0.097626  \n",
      "1          0.104814       1.014232  0.104830  \n",
      "2          0.329292       2.889746  0.341419  \n",
      "3         -0.015417      -0.152234 -0.015340  \n",
      "4          0.093544       0.696055  0.093297  \n",
      "..              ...            ...       ...  \n",
      "95        -0.053833      -0.470507 -0.053618  \n",
      "96         0.009179       0.090804  0.009133  \n",
      "97        -0.093819      -0.741512 -0.093603  \n",
      "98         0.037456       0.345050  0.037287  \n",
      "99        -0.382284      -2.529485 -0.392672  \n",
      "\n",
      "[100 rows x 8 columns]\n"
     ]
    }
   ],
   "source": [
    "#Modelin etkilerine dair özet tabloyu oluşturur. Bu tablo, çeşitli etkili ölçümleri topluca görmenizi sağlar.\n",
    "summary_influence=model.get_influence().summary_frame()\n",
    "print(summary_influence)"
   ]
  },
  {
   "cell_type": "markdown",
   "id": "61ab5621-cb2a-469f-9fca-5ae311db4940",
   "metadata": {},
   "source": [
    "dfb_Intercept:\n",
    "\n",
    "Açıklama: Modelin intercept (sabit) terimi üzerindeki etkisini ölçen DFBETA değeridir.\n",
    "Yorumlama: Bu değer, belirli bir gözlemin intercept üzerindeki etkisini gösterir. Yüksek bir değer, bu gözlemin intercept'in tahmini üzerinde önemli bir etkisi olduğunu gösterebilir.\n",
    "dfb_B:\n",
    "\n",
    "Açıklama: Modelin bağımsız değişken (regresyon katsayıları) üzerindeki etkisini ölçen DFBETA değeridir.\n",
    "Yorumlama: Bu değer, belirli bir gözlemin bağımsız değişkenin katsayıları üzerindeki etkisini gösterir. Yüksek bir DFBETA değeri, bu gözlemin modelin katsayıları üzerindeki etkisini gösterir ve etkili gözlemleri belirlemenize yardımcı olabilir.\n",
    "cooks_d:\n",
    "\n",
    "Açıklama: Cook's Distance, her bir gözlemin model parametreleri üzerindeki etkisini ölçer.\n",
    "Yorumlama: Yüksek Cook's Distance değeri, gözlemin model üzerindeki etkisinin büyük olduğunu ve potansiyel bir aykırı değer olabileceğini gösterir. Genellikle, Cook's Distance değeri 1'den büyük olan gözlemler dikkatlice incelenmelidir.\n",
    "standard_resid:\n",
    "\n",
    "Açıklama: Standartize edilmiş kalanlar, her bir gözlemin kalanını standart hata ile normalize eder.\n",
    "Yorumlama: Standartize edilmiş kalanlar, modelin uygunluğunu değerlendirmede yardımcı olur. Genellikle, bu değerlerin mutlak değerleri 2'yi geçiyorsa, aykırı değerler olarak değerlendirilebilir.\n",
    "hat_diag:\n",
    "\n",
    "Açıklama: Leverage değerlerini temsil eder. Hat matrisinin diyagonal elemanlarını içerir.\n",
    "Yorumlama: Leverage, her bir gözlemin model tahminlerini ne kadar etkilediğini gösterir. Yüksek leverage değeri, gözlemin tahminler üzerindeki etkisini gösterir ve potansiyel etkili gözlemleri belirlemenize yardımcı olabilir.\n",
    "dffits_internal:\n",
    "\n",
    "Açıklama: Her bir gözlemin modelin tahminlerini ne kadar etkilediğini ölçen DFFITS değeridir. İçsel DFFITS değeri olarak da bilinir.\n",
    "Yorumlama: Yüksek DFFITS değeri, gözlemin tahmin edilen değerler üzerindeki etkisinin büyük olduğunu ve potansiyel bir aykırı değer olabileceğini gösterir.\n",
    "student_resid:\n",
    "\n",
    "Açıklama: Studentized residuals, her bir kalan değerinin varyansını normalize eder.\n",
    "Yorumlama: Bu değerler, modelin uyumunu değerlendirir. Yüksek studentized residuals değerleri, potansiyel aykırı değerler veya modelin uyumsuzluğunu gösterebilir. Genellikle, mutlak değerlerin 2'yi aşması, dikkat edilmesi gereken aykırı gözlemler olduğunu işaret edebilir.\n",
    "dffits:\n",
    "\n",
    "Açıklama: Her bir gözlemin model tahminlerine etkisini ölçen DFFITS değeridir. Bu, tahminlerin gözlemden ne kadar etkilendiğini gösterir.\n",
    "Yorumlama: Yüksek DFFITS değerleri, modelin tahminlerini etkileyen gözlemleri belirlemek için kullanılır. Aykırı veya etkili gözlemler olarak işaretlenebilir."
   ]
  },
  {
   "cell_type": "code",
   "execution_count": 32,
   "id": "047dc2b9-86c8-4fb2-bbfb-8f1410205dc4",
   "metadata": {},
   "outputs": [],
   "source": [
    "#normal tabloya leverage ekle\n",
    "simple_df[\"leverage\"]=summary_influence[\"hat_diag\"]"
   ]
  },
  {
   "cell_type": "code",
   "execution_count": 33,
   "id": "c64e5b23-f12b-4abc-bc2e-bb59584232ba",
   "metadata": {},
   "outputs": [],
   "source": [
    "simple_df[\"cooks_d\"]=summary_influence[\"cooks_d\"]\n",
    "#normal tabloya cooks_d ekle"
   ]
  },
  {
   "cell_type": "code",
   "execution_count": 34,
   "id": "40a1ffa0-e5c1-4fca-8d2d-09184d6171d8",
   "metadata": {},
   "outputs": [
    {
     "name": "stdout",
     "output_type": "stream",
     "text": [
      "            A          B          C    D  leverage   cooks_d\n",
      "0   32.502345  31.707006  87.557221  158  0.071273  0.004808\n",
      "1   53.426804  68.777596  53.152523   82  0.010570  0.005493\n",
      "2   61.530358  62.562382  49.983669   75  0.013767  0.054217\n",
      "3   47.475640  71.546632  84.841061  152  0.010051  0.000119\n",
      "4   59.813208  87.230925  44.551348   63  0.017649  0.004375\n",
      "..        ...        ...        ...  ...       ...       ...\n",
      "95  50.030174  81.536991  78.050660  137  0.012820  0.001449\n",
      "96  49.239765  72.111832  82.124900  146  0.010014  0.000042\n",
      "97  50.039576  85.232007  54.057910   84  0.015685  0.004401\n",
      "98  48.149859  66.224958  42.740575   59  0.011543  0.000701\n",
      "99  25.128485  53.454394  40.024414   53  0.023532  0.073071\n",
      "\n",
      "[100 rows x 6 columns]\n"
     ]
    }
   ],
   "source": [
    "print(simple_df)"
   ]
  },
  {
   "cell_type": "code",
   "execution_count": 35,
   "id": "5618a05d-cb23-40ae-a4ce-61e1b1938b93",
   "metadata": {},
   "outputs": [
    {
     "name": "stdout",
     "output_type": "stream",
     "text": [
      "            A           B          C    D  leverage       cooks_d\n",
      "99  25.128485   53.454394  40.024414   53  0.023532  7.307054e-02\n",
      "2   61.530358   62.562382  49.983669   75  0.013767  5.421674e-02\n",
      "74  70.346076  104.257102  56.774070   90  0.046169  3.337885e-02\n",
      "50  38.119824   80.166275  52.247136   80  0.012010  3.222076e-02\n",
      "93  46.230966   90.123572  57.226763   91  0.021006  3.196515e-02\n",
      "..        ...         ...        ...  ...       ...           ...\n",
      "17  60.297327   97.379897  63.564471  105  0.032109  1.480812e-05\n",
      "6   52.211797   79.641973  73.523726  127  0.011737  2.505867e-06\n",
      "76  57.504533   91.486778  72.165646  124  0.022799  1.021573e-06\n",
      "12  44.164049   62.008923  74.881806  130  0.014188  7.134889e-07\n",
      "43  43.870613   61.424710  51.794443   79  0.014657  2.055769e-07\n",
      "\n",
      "[100 rows x 6 columns]\n"
     ]
    }
   ],
   "source": [
    "print(simple_df.sort_values(\"cooks_d\",ascending=False))"
   ]
  },
  {
   "cell_type": "code",
   "execution_count": 36,
   "id": "629b2ee1-ff21-47bf-86a9-ca76996d262c",
   "metadata": {},
   "outputs": [
    {
     "name": "stdout",
     "output_type": "stream",
     "text": [
      "0.008633907904553451\n"
     ]
    }
   ],
   "source": [
    "print(simple_df[\"cooks_d\"].mean())"
   ]
  },
  {
   "cell_type": "code",
   "execution_count": 37,
   "id": "199b0570-12ab-4cff-a7ea-c1d2a7e2728b",
   "metadata": {},
   "outputs": [
    {
     "data": {
      "image/png": "[encoded data removed]",
      "text/plain": [
       "<Figure size 640x480 with 1 Axes>"
      ]
     },
     "metadata": {},
     "output_type": "display_data"
    }
   ],
   "source": [
    "sns.boxplot(data=simple_df,x=\"cooks_d\")\n",
    "plt.show()"
   ]
  },
  {
   "cell_type": "code",
   "execution_count": 120,
   "id": "da588905-e2eb-4870-971f-a653449ecf75",
   "metadata": {},
   "outputs": [],
   "source": [
    "mean_cooks_d = np.mean(simple_df[\"cooks_d\"])\n",
    "std_cooks_d = np.std(simple_df[\"cooks_d\"])"
   ]
  },
  {
   "cell_type": "code",
   "execution_count": 135,
   "id": "868691ba-af4c-487c-8f04-fdababf0836d",
   "metadata": {},
   "outputs": [],
   "source": [
    "tresh=mean_cooks_d + 2 * std_cooks_d"
   ]
  },
  {
   "cell_type": "code",
   "execution_count": 136,
   "id": "5bfaaceb-0f19-4365-a12f-d4847c245cbf",
   "metadata": {},
   "outputs": [
    {
     "name": "stdout",
     "output_type": "stream",
     "text": [
      "0.03253899696022884\n"
     ]
    }
   ],
   "source": [
    "print(tresh)"
   ]
  },
  {
   "cell_type": "code",
   "execution_count": 139,
   "id": "9d7e1a4c-080e-4283-9d9b-b2e936acb60d",
   "metadata": {},
   "outputs": [],
   "source": [
    "new_df=simple_df[simple_df[\"cooks_d\"]< 0.01]"
   ]
  },
  {
   "cell_type": "code",
   "execution_count": 140,
   "id": "b1a00655-4b12-465c-82c8-30fd6b5a7c9b",
   "metadata": {
    "tags": []
   },
   "outputs": [
    {
     "name": "stdout",
     "output_type": "stream",
     "text": [
      "            A          B          C    D  leverage       cooks_d\n",
      "30  52.223996  63.358790  69.902179  119  0.013200  9.926212e-03\n",
      "32  42.436477  76.617341  75.334499  131  0.010549  9.588649e-03\n",
      "83  59.049741  77.634183  39.119028   51  0.010874  8.944912e-03\n",
      "13  58.168471  75.392870  59.037537   95  0.010257  8.715112e-03\n",
      "34  57.504448  74.084130  45.909429   66  0.010066  8.397479e-03\n",
      "..        ...        ...        ...  ...       ...           ...\n",
      "17  60.297327  97.379897  63.564471  105  0.032109  1.480812e-05\n",
      "6   52.211797  79.641973  73.523726  127  0.011737  2.505867e-06\n",
      "76  57.504533  91.486778  72.165646  124  0.022799  1.021573e-06\n",
      "12  44.164049  62.008923  74.881806  130  0.014188  7.134889e-07\n",
      "43  43.870613  61.424710  51.794443   79  0.014657  2.055769e-07\n",
      "\n",
      "[73 rows x 6 columns]\n"
     ]
    }
   ],
   "source": [
    "print(new_df.sort_values(\"cooks_d\",ascending=False))"
   ]
  },
  {
   "cell_type": "code",
   "execution_count": 123,
   "id": "c97d320b-1599-470e-b0a9-d8e77fd643fd",
   "metadata": {},
   "outputs": [],
   "source": [
    "new_simple_df=new_df[[\"A\",\"B\"]]"
   ]
  },
  {
   "cell_type": "code",
   "execution_count": 124,
   "id": "7f09b0e7-afd4-40fb-b2e2-508752cfb947",
   "metadata": {},
   "outputs": [
    {
     "name": "stdout",
     "output_type": "stream",
     "text": [
      "            A          B\n",
      "0   32.502345  31.707006\n",
      "1   53.426804  68.777596\n",
      "3   47.475640  71.546632\n",
      "4   59.813208  87.230925\n",
      "5   55.142188  78.211518\n",
      "..        ...        ...\n",
      "94  68.319361  97.919821\n",
      "95  50.030174  81.536991\n",
      "96  49.239765  72.111832\n",
      "97  50.039576  85.232007\n",
      "98  48.149859  66.224958\n",
      "\n",
      "[97 rows x 2 columns]\n"
     ]
    }
   ],
   "source": [
    "print(new_simple_df)"
   ]
  },
  {
   "cell_type": "code",
   "execution_count": 141,
   "id": "1ae007da-9f22-412a-a67f-dadaf28cbc23",
   "metadata": {},
   "outputs": [],
   "source": [
    "model_new=ols(\"A ~ B\",data=new_simple_df).fit()"
   ]
  },
  {
   "cell_type": "code",
   "execution_count": 142,
   "id": "d6bde618-9253-44c3-8960-f70b38210a84",
   "metadata": {},
   "outputs": [
    {
     "name": "stdout",
     "output_type": "stream",
     "text": [
      "                            OLS Regression Results                            \n",
      "==============================================================================\n",
      "Dep. Variable:                      A   R-squared:                       0.611\n",
      "Model:                            OLS   Adj. R-squared:                  0.607\n",
      "Method:                 Least Squares   F-statistic:                     149.4\n",
      "Date:                Thu, 05 Sep 2024   Prob (F-statistic):           3.34e-21\n",
      "Time:                        13:28:25   Log-Likelihood:                -307.13\n",
      "No. Observations:                  97   AIC:                             618.3\n",
      "Df Residuals:                      95   BIC:                             623.4\n",
      "Df Model:                           1                                         \n",
      "Covariance Type:            nonrobust                                         \n",
      "==============================================================================\n",
      "                 coef    std err          t      P>|t|      [0.025      0.975]\n",
      "------------------------------------------------------------------------------\n",
      "Intercept     16.8904      2.681      6.301      0.000      11.569      22.212\n",
      "B              0.4396      0.036     12.223      0.000       0.368       0.511\n",
      "==============================================================================\n",
      "Omnibus:                        0.585   Durbin-Watson:                   2.467\n",
      "Prob(Omnibus):                  0.747   Jarque-Bera (JB):                0.687\n",
      "Skew:                          -0.171   Prob(JB):                        0.709\n",
      "Kurtosis:                       2.771   Cond. No.                         339.\n",
      "==============================================================================\n",
      "\n",
      "Notes:\n",
      "[1] Standard Errors assume that the covariance matrix of the errors is correctly specified.\n"
     ]
    }
   ],
   "source": [
    "print(model_new.summary())"
   ]
  },
  {
   "cell_type": "code",
   "execution_count": 143,
   "id": "e5f28e3b-3100-4611-8ba0-28466569f64d",
   "metadata": {},
   "outputs": [
    {
     "name": "stdout",
     "output_type": "stream",
     "text": [
      "0.7818436346142527\n"
     ]
    }
   ],
   "source": [
    "print(new_simple_df[\"A\"].corr(new_simple_df[\"B\"]))"
   ]
  },
  {
   "cell_type": "code",
   "execution_count": 144,
   "id": "3242436a-34c8-4b65-8fd8-71123ecee9d0",
   "metadata": {},
   "outputs": [
    {
     "data": {
      "text/html": [
       "<div>\n",
       "<style scoped>\n",
       "    .dataframe tbody tr th:only-of-type {\n",
       "        vertical-align: middle;\n",
       "    }\n",
       "\n",
       "    .dataframe tbody tr th {\n",
       "        vertical-align: top;\n",
       "    }\n",
       "\n",
       "    .dataframe thead th {\n",
       "        text-align: right;\n",
       "    }\n",
       "</style>\n",
       "<table border=\"1\" class=\"dataframe\">\n",
       "  <thead>\n",
       "    <tr style=\"text-align: right;\">\n",
       "      <th></th>\n",
       "      <th>A</th>\n",
       "      <th>B</th>\n",
       "      <th>leverage</th>\n",
       "      <th>cooks_d</th>\n",
       "    </tr>\n",
       "  </thead>\n",
       "  <tbody>\n",
       "    <tr>\n",
       "      <th>0</th>\n",
       "      <td>32.502345</td>\n",
       "      <td>31.707006</td>\n",
       "      <td>0.074977</td>\n",
       "      <td>0.003651</td>\n",
       "    </tr>\n",
       "    <tr>\n",
       "      <th>1</th>\n",
       "      <td>53.426804</td>\n",
       "      <td>68.777596</td>\n",
       "      <td>0.010905</td>\n",
       "      <td>0.006584</td>\n",
       "    </tr>\n",
       "    <tr>\n",
       "      <th>3</th>\n",
       "      <td>47.475640</td>\n",
       "      <td>71.546632</td>\n",
       "      <td>0.010362</td>\n",
       "      <td>0.000118</td>\n",
       "    </tr>\n",
       "    <tr>\n",
       "      <th>4</th>\n",
       "      <td>59.813208</td>\n",
       "      <td>87.230925</td>\n",
       "      <td>0.018414</td>\n",
       "      <td>0.005954</td>\n",
       "    </tr>\n",
       "    <tr>\n",
       "      <th>5</th>\n",
       "      <td>55.142188</td>\n",
       "      <td>78.211518</td>\n",
       "      <td>0.011472</td>\n",
       "      <td>0.002616</td>\n",
       "    </tr>\n",
       "  </tbody>\n",
       "</table>\n",
       "</div>"
      ],
      "text/plain": [
       "           A          B  leverage   cooks_d\n",
       "0  32.502345  31.707006  0.074977  0.003651\n",
       "1  53.426804  68.777596  0.010905  0.006584\n",
       "3  47.475640  71.546632  0.010362  0.000118\n",
       "4  59.813208  87.230925  0.018414  0.005954\n",
       "5  55.142188  78.211518  0.011472  0.002616"
      ]
     },
     "execution_count": 144,
     "metadata": {},
     "output_type": "execute_result"
    }
   ],
   "source": [
    "new_simple_df.head()"
   ]
  },
  {
   "cell_type": "code",
   "execution_count": 147,
   "id": "4b736624-3052-48fd-8e5c-7150df0ca7e7",
   "metadata": {},
   "outputs": [],
   "source": [
    "new_influence=model_new.get_influence().summary_frame()"
   ]
  },
  {
   "cell_type": "code",
   "execution_count": 148,
   "id": "4410b3e0-5e45-4365-a09e-9657214620b1",
   "metadata": {},
   "outputs": [
    {
     "name": "stdout",
     "output_type": "stream",
     "text": [
      "    dfb_Intercept     dfb_B   cooks_d  standard_resid  hat_diag  \\\n",
      "0        0.083976 -0.078978  0.003651        0.300145  0.074977   \n",
      "1        0.050728 -0.026850  0.006584        1.092825  0.010905   \n",
      "3       -0.004404  0.001085  0.000118       -0.149972  0.010362   \n",
      "4       -0.052589  0.072256  0.005954        0.796725  0.018414   \n",
      "5       -0.007378  0.022957  0.002616        0.671435  0.011472   \n",
      "..            ...       ...       ...             ...       ...   \n",
      "94      -0.196236  0.235610  0.038978        1.471679  0.034743   \n",
      "95       0.014614 -0.025732  0.001483       -0.469082  0.013303   \n",
      "96       0.002925 -0.000421  0.000066        0.112738  0.010323   \n",
      "97       0.040340 -0.058612  0.004678       -0.750556  0.016336   \n",
      "98       0.022974 -0.015017  0.000838        0.372657  0.011928   \n",
      "\n",
      "    dffits_internal  student_resid    dffits  \n",
      "0          0.085451       0.298703  0.085041  \n",
      "1          0.114748       1.093956  0.114867  \n",
      "3         -0.015346      -0.149199 -0.015267  \n",
      "4          0.109124       0.795182  0.108912  \n",
      "5          0.072331       0.669483  0.072120  \n",
      "..              ...            ...       ...  \n",
      "94         0.279206       1.480891  0.280953  \n",
      "95        -0.054467      -0.467148 -0.054242  \n",
      "96         0.011514       0.112150  0.011454  \n",
      "97        -0.096723      -0.748819 -0.096499  \n",
      "98         0.040946       0.370962  0.040759  \n",
      "\n",
      "[97 rows x 8 columns]\n"
     ]
    }
   ],
   "source": [
    "print(new_influence)"
   ]
  },
  {
   "cell_type": "code",
   "execution_count": 149,
   "id": "027c3b9d-4403-4bee-82ac-148ed769bcef",
   "metadata": {},
   "outputs": [],
   "source": [
    "#new tabloya leverage ekle\n",
    "new_simple_df[\"leverage\"]=new_influence[\"hat_diag\"]\n",
    "new_simple_df[\"cooks_d\"]=new_influence[\"cooks_d\"]\n",
    "#new tabloya cooks_d ekle"
   ]
  },
  {
   "cell_type": "code",
   "execution_count": 150,
   "id": "db94145d-d75d-46dc-a6ba-f2c2ecbc123d",
   "metadata": {},
   "outputs": [
    {
     "data": {
      "image/png": "[encoded data removed]",
      "text/plain": [
       "<Figure size 640x480 with 1 Axes>"
      ]
     },
     "metadata": {},
     "output_type": "display_data"
    }
   ],
   "source": [
    "qqplot(model_new.resid,fit=True,line=\"45\")\n",
    "plt.show()"
   ]
  },
  {
   "cell_type": "code",
   "execution_count": 151,
   "id": "3d53d5e1-f16f-42bc-a793-7be593eaa220",
   "metadata": {},
   "outputs": [
    {
     "name": "stdout",
     "output_type": "stream",
     "text": [
      "            A          B  leverage       cooks_d\n",
      "94  68.319361  97.919821  0.034743  3.897786e-02\n",
      "50  38.119824  80.166275  0.012445  3.723538e-02\n",
      "93  46.230966  90.123572  0.021966  3.604762e-02\n",
      "20  66.189817  83.878565  0.015103  3.575088e-02\n",
      "90  32.940480  67.170656  0.011491  3.175134e-02\n",
      "..        ...        ...       ...           ...\n",
      "96  49.239765  72.111832  0.010323  6.628741e-05\n",
      "76  57.504533  91.486778  0.023863  5.908373e-05\n",
      "6   52.211797  79.641973  0.012155  1.806841e-05\n",
      "43  43.870613  61.424710  0.015210  1.016183e-07\n",
      "12  44.164049  62.008923  0.014716  5.591483e-08\n",
      "\n",
      "[97 rows x 4 columns]\n"
     ]
    }
   ],
   "source": [
    "print(new_simple_df.sort_values(\"cooks_d\",ascending=False))"
   ]
  },
  {
   "cell_type": "code",
   "execution_count": 152,
   "id": "c94cd61e-d9dc-43fb-8936-a9ee9c082eb3",
   "metadata": {},
   "outputs": [
    {
     "data": {
      "image/png": "[encoded data removed]",
      "text/plain": [
       "<Figure size 640x480 with 1 Axes>"
      ]
     },
     "metadata": {},
     "output_type": "display_data"
    }
   ],
   "source": [
    "sns.boxplot(data=new_simple_df,x=\"cooks_d\")\n",
    "plt.show()"
   ]
  },
  {
   "cell_type": "code",
   "execution_count": 155,
   "id": "dcb1ff88-153c-48ec-bf46-2f81eacec3f5",
   "metadata": {},
   "outputs": [],
   "source": [
    "deneme1=model_new.predict(k)"
   ]
  },
  {
   "cell_type": "code",
   "execution_count": 156,
   "id": "757bec29-4072-49f8-a55f-dc081b4ab46b",
   "metadata": {},
   "outputs": [
    {
     "name": "stdout",
     "output_type": "stream",
     "text": [
      "0    25.538226\n",
      "dtype: float64 0    26.121611\n",
      "dtype: float64\n"
     ]
    }
   ],
   "source": [
    "print(deneme,deneme1)"
   ]
  },
  {
   "cell_type": "code",
   "execution_count": null,
   "id": "bc55a79f-e2d6-4353-8dd0-0d5e01b6259a",
   "metadata": {},
   "outputs": [],
   "source": []
  }
 ],
 "metadata": {
  "kernelspec": {
   "display_name": "Python 3 (ipykernel)",
   "language": "python",
   "name": "python3"
  },
  "language_info": {
   "codemirror_mode": {
    "name": "ipython",
    "version": 3
   },
   "file_extension": ".py",
   "mimetype": "text/x-python",
   "name": "python",
   "nbconvert_exporter": "python",
   "pygments_lexer": "ipython3",
   "version": "3.9.13"
  }
 },
 "nbformat": 4,
 "nbformat_minor": 5
}
